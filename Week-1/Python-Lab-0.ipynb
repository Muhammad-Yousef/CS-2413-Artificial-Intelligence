{
 "cells": [
  {
   "cell_type": "markdown",
   "metadata": {},
   "source": [
    "# Preface\n",
    "\n",
    "- <b>General purpose</b> programming Language.\n",
    "- Python supports the <b>procedural</b>, <b>object-oriented</b>, and <b>functional programming paradigms</b>."
   ]
  },
  {
   "cell_type": "markdown",
   "metadata": {},
   "source": [
    "# Generals\n",
    "\n",
    "- Python is <b>case-sensitive</b>.\n",
    "- Python variables never need to be declare ahead of time. A variable is created when you assign it a value.\n",
    "- In Python, like in C, any <b>non-zero</b> integer value is <b>true</b>; <b>zero</b> is <b>false</b>.\n",
    "- All Indexing are <b>zero-based</b>.\n",
    "- Indices may also be <b>negative</b> numbers, to start counting from the <b>right</b>. Note that since -0 is the same as 0, negative indices start from <b>-1</b>\n",
    "- Technically, a negative offset is added to the length of a string to derive a positive offset.\n",
    "- statement grouping is done by <b>indentation</b> instead of beginning and ending brackets. Indentation is Python’s way of grouping statements.\n",
    "- <b>In interactive mode</b>, the last printed expression is assigned to the variable <b>_</b>. This means that when you are using Python as a desk calculator, it is somewhat easier to continue calculations. \n",
    "- One nice feature of Python’s core data types is that they support arbitrary nesting—we can nest them in any combination, and as deeply as we like. For example, we can have a list that contains a dictionary, which contains another list, and so on. \n",
    "- Python has no “<b>go to</b>” statement\n",
    "- To get help, write in the terminal <b>help()</b>"
   ]
  },
  {
   "cell_type": "markdown",
   "metadata": {},
   "source": [
    "- As another special case, Python allows you to write more than one noncompound\n",
    "statement (i.e., statements without nested statements) on the same line, separated by\n",
    "semicolons."
   ]
  },
  {
   "cell_type": "code",
   "execution_count": null,
   "metadata": {},
   "outputs": [],
   "source": [
    "x = 1; y = 2; print(x, y)"
   ]
  },
  {
   "cell_type": "markdown",
   "metadata": {},
   "source": [
    "- Finally, Python lets you move a compound statement’s body up to the header line,\n",
    "provided the body contains just simple (noncompound) statements."
   ]
  },
  {
   "cell_type": "code",
   "execution_count": null,
   "metadata": {},
   "outputs": [],
   "source": [
    "if 1: print(\"ok\")"
   ]
  },
  {
   "cell_type": "markdown",
   "metadata": {},
   "source": [
    "# Comments\n",
    "\n",
    "- Comments in Python start with the hash character, <b>#</b>, and extend to <b>the end</b> of the physical line.\n",
    "- A comment may appear at the <b>start of a line</b> or following whitespace or code, but <b>not within a string literal</b>. A hash character within a string literal is just a hash character. \n",
    "\n"
   ]
  },
  {
   "cell_type": "code",
   "execution_count": null,
   "metadata": {},
   "outputs": [],
   "source": [
    "# This is a comment\n",
    "\n",
    "i = 1 # This is also a comment\n",
    "\n",
    "print('# This is not a comment')"
   ]
  },
  {
   "cell_type": "markdown",
   "metadata": {},
   "source": [
    "# Input and Output\n",
    "\n",
    "- The print function takes a string as an <b>argument</b> and displays it as a <b>prompt</b> in the shell."
   ]
  },
  {
   "cell_type": "code",
   "execution_count": null,
   "metadata": {},
   "outputs": [],
   "source": [
    "print('Hello, World!')"
   ]
  },
  {
   "cell_type": "markdown",
   "metadata": {},
   "source": [
    "- The print function takes <b>variable number</b> of arguments separated by <b>commas</b>, and print them separated by <b>spaces</b>."
   ]
  },
  {
   "cell_type": "code",
   "execution_count": null,
   "metadata": {},
   "outputs": [],
   "source": [
    "print('Python', 'Programming', 'Language')"
   ]
  },
  {
   "cell_type": "code",
   "execution_count": null,
   "metadata": {},
   "outputs": [],
   "source": [
    "print('Python', 'Programming', 'Language', sep = '-')"
   ]
  },
  {
   "cell_type": "markdown",
   "metadata": {},
   "source": [
    "- The keyword argument <b>end</b> can be used to <b>avoid</b> the newline after the output, or end the output with a <b>different</b> string."
   ]
  },
  {
   "cell_type": "code",
   "execution_count": null,
   "metadata": {},
   "outputs": [],
   "source": [
    "print('Hello')\n",
    "print('World')"
   ]
  },
  {
   "cell_type": "code",
   "execution_count": null,
   "metadata": {},
   "outputs": [],
   "source": [
    "print('Hello', end = ' ')\n",
    "print('World!')"
   ]
  },
  {
   "cell_type": "code",
   "execution_count": null,
   "metadata": {},
   "outputs": [],
   "source": [
    "print('Hello', end = ' World')\n",
    "print('!')"
   ]
  },
  {
   "cell_type": "markdown",
   "metadata": {},
   "source": [
    "- User's input is treating as <b>string</b>."
   ]
  },
  {
   "cell_type": "code",
   "execution_count": 1,
   "metadata": {},
   "outputs": [
    {
     "name": "stdin",
     "output_type": "stream",
     "text": [
      "Enter a number: 5\n"
     ]
    },
    {
     "data": {
      "text/plain": [
       "str"
      ]
     },
     "execution_count": 1,
     "metadata": {},
     "output_type": "execute_result"
    }
   ],
   "source": [
    "x = input('Enter a number:')\n",
    "type(x)"
   ]
  },
  {
   "cell_type": "markdown",
   "metadata": {},
   "source": [
    "## Formatting output"
   ]
  },
  {
   "cell_type": "markdown",
   "metadata": {},
   "source": [
    "#### Format Fields\n",
    "\n",
    "- The brackets and characters within them <b>(called format fields)</b> are replaced with the objects passed into the <b>str.format()</b> method"
   ]
  },
  {
   "cell_type": "code",
   "execution_count": null,
   "metadata": {},
   "outputs": [],
   "source": [
    "print('To {} or not {} be, That is the question!'.format('be','to'))"
   ]
  },
  {
   "cell_type": "markdown",
   "metadata": {},
   "source": [
    "#### Positional Arguments\n",
    "\n",
    "- A number in the brackets can be used to refer to the <b>position</b> of the object passed into the str.format() method."
   ]
  },
  {
   "cell_type": "code",
   "execution_count": null,
   "metadata": {},
   "outputs": [],
   "source": [
    "print('{0} and {1}'.format('Give', 'Take'))"
   ]
  },
  {
   "cell_type": "code",
   "execution_count": null,
   "metadata": {},
   "outputs": [],
   "source": [
    "print('{1} and {0}'.format('Give', 'Take'))"
   ]
  },
  {
   "cell_type": "markdown",
   "metadata": {},
   "source": [
    "- An optional ':' and format specifier can follow the field name. This allows greater control over how the value is formatted."
   ]
  },
  {
   "cell_type": "code",
   "execution_count": null,
   "metadata": {},
   "outputs": [],
   "source": [
    "import math\n",
    "\n",
    "print('The value of Pi is approximately {0:.2f}'.format(math.pi))"
   ]
  },
  {
   "cell_type": "markdown",
   "metadata": {},
   "source": [
    "#### Keyword Arguments\n",
    "\n",
    "- If keyword arguments are used in the str.format() method, their values are referred to by using the name of the argument."
   ]
  },
  {
   "cell_type": "code",
   "execution_count": null,
   "metadata": {},
   "outputs": [],
   "source": [
    "print('The {adjective} of {name}'.format(adjective = 'tragedy', name = 'Macbeth'))"
   ]
  },
  {
   "cell_type": "markdown",
   "metadata": {},
   "source": [
    "# Data types\n",
    "\n",
    "- Integer\n",
    "- Float\n",
    "- String\n",
    "- bool\n",
    "- None"
   ]
  },
  {
   "cell_type": "markdown",
   "metadata": {},
   "source": [
    "- Unlike languages such as C, Python has no distinct type for individual characters; instead, you just use one-character strings."
   ]
  },
  {
   "cell_type": "markdown",
   "metadata": {},
   "source": [
    "## Integer and Floating-point literals\n",
    "\n",
    "- Integers are written as strings of decimal digits.\n",
    "- Python allows integers to have <b>unlimited precision</b>—they can grow to have as many digits as your <b>memory space</b> allows.\n",
    "- Floating-point numbers have a <b>decimal point</b>"
   ]
  },
  {
   "cell_type": "markdown",
   "metadata": {},
   "source": [
    "- In addition to <b>int</b> and <b>float</b>, Python supports other types of numbers, such as <b>Decimal</b> and <b>Fraction</b>. \n"
   ]
  },
  {
   "cell_type": "markdown",
   "metadata": {},
   "source": [
    "## Fraction\n",
    "\n",
    "- Implements a <b>rational</b> number object.\n",
    "- It essentially keeps both a numerator and a denominator explicitly, so as to avoid some of the inaccuracies and limitations of floating-point math.\n",
    "- Like decimals, fractions do not map as closely to computer hardware as floating-point numbers. This means their performance may not be as good"
   ]
  },
  {
   "cell_type": "code",
   "execution_count": 2,
   "metadata": {},
   "outputs": [],
   "source": [
    "from fractions import Fraction\n",
    "\n",
    "a = Fraction(1, 3)\n",
    "b = Fraction(1, 3)"
   ]
  },
  {
   "cell_type": "code",
   "execution_count": 3,
   "metadata": {
    "scrolled": true
   },
   "outputs": [
    {
     "name": "stdout",
     "output_type": "stream",
     "text": [
      "1/3\n"
     ]
    }
   ],
   "source": [
    "print(a)"
   ]
  },
  {
   "cell_type": "code",
   "execution_count": 4,
   "metadata": {},
   "outputs": [
    {
     "name": "stdout",
     "output_type": "stream",
     "text": [
      "2/3\n"
     ]
    }
   ],
   "source": [
    "print(a + b)"
   ]
  },
  {
   "cell_type": "code",
   "execution_count": 5,
   "metadata": {},
   "outputs": [
    {
     "name": "stdout",
     "output_type": "stream",
     "text": [
      "1/9\n"
     ]
    }
   ],
   "source": [
    "print(a * b)"
   ]
  },
  {
   "cell_type": "markdown",
   "metadata": {},
   "source": [
    "- Fraction objects can also be created from floating-point number strings"
   ]
  },
  {
   "cell_type": "code",
   "execution_count": 6,
   "metadata": {},
   "outputs": [
    {
     "name": "stdout",
     "output_type": "stream",
     "text": [
      "1/4\n"
     ]
    }
   ],
   "source": [
    "print(Fraction('.25'))"
   ]
  },
  {
   "cell_type": "markdown",
   "metadata": {},
   "source": [
    "- The built-in function <b>type(x)</b> can be used to find out the type of an object x. "
   ]
  },
  {
   "cell_type": "code",
   "execution_count": null,
   "metadata": {},
   "outputs": [],
   "source": [
    "x = 3\n",
    "type(x)"
   ]
  }
 ],
 "metadata": {
  "kernelspec": {
   "display_name": "Python 3",
   "language": "python",
   "name": "python3"
  },
  "language_info": {
   "codemirror_mode": {
    "name": "ipython",
    "version": 3
   },
   "file_extension": ".py",
   "mimetype": "text/x-python",
   "name": "python",
   "nbconvert_exporter": "python",
   "pygments_lexer": "ipython3",
   "version": "3.6.7"
  }
 },
 "nbformat": 4,
 "nbformat_minor": 2
}
