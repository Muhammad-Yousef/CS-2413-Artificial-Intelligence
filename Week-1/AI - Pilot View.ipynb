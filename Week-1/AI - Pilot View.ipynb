{
 "cells": [
  {
   "cell_type": "markdown",
   "metadata": {},
   "source": [
    "# Introduction"
   ]
  },
  {
   "cell_type": "markdown",
   "metadata": {},
   "source": [
    "- AI is regularly cited as the “<b>ﬁeld I would most like to be in</b>” by scientists in other disciplines. \n",
    "- A student in physics might reasonably feel that all the good ideas have already been taken by Galileo, Newton, Einstein, and the rest. AI, on the other hand, still has openings for several full-time Einsteins and Edisons. "
   ]
  },
  {
   "cell_type": "markdown",
   "metadata": {},
   "source": [
    "# Definition"
   ]
  },
  {
   "cell_type": "markdown",
   "metadata": {},
   "source": [
    "- The first work that is now generally recognized as AI was done by <b>Warren McCulloch</b> and <b>Walter Pitts</b> (1943)."
   ]
  },
  {
   "cell_type": "markdown",
   "metadata": {},
   "source": [
    "- The deﬁnitions on <b>top</b> are concerned with <b>thought processes</b> and <b>reasoning</b>, whereas the ones on the <b>bottom</b> address <b>behavior</b>. \n",
    "- The deﬁnitions on the <b>left</b> measure <b>success</b> in terms of <b>ﬁdelity to human performance</b>, whereas the ones on the <b>right</b> measure against an <b>ideal</b> performance measure, called <b>rationality</b>."
   ]
  },
  {
   "cell_type": "markdown",
   "metadata": {},
   "source": [
    "<table>\n",
    "    <tr>\n",
    "        <td><b>Thinking Humanly</b></td>\n",
    "        <td><b>Thinking Rationally</b></td>\n",
    "    </tr>\n",
    "    <tr>\n",
    "        <td>\n",
    "            <p>“The exciting new effort to make computers think ...<b>machines with minds</b>, in the full and literal sense.”(Haugeland, 1985)</p>\n",
    "            <p>“[<b>The automation of</b>] activities that we associate with human thinking, activities such as <b>decision-making</b>, <b>problem solving</b>, <b>learning</b> ...” (Bellman, 1978)\n",
    "</p>\n",
    "        </td>\n",
    "        <td>\n",
    "            <p>\"The study of <b>mental faculties</b> through the use of <b>computaional models</b>\" (Charniak and McDermott, 1985)</p>\n",
    "            <p>“The study of the computations that make it possible to perceive, reason, and act.” (Winston, 1992)\n",
    "</p>\n",
    "        </td>\n",
    "    </tr>\n",
    "    <tr>\n",
    "        <td><b>Acting Humanly</b></td>\n",
    "        <td><b>Acting Rationally</b></td>\n",
    "    </tr>\n",
    "    <tr>\n",
    "        <td>\n",
    "            <p>“The art of creating machines that perform functions that require intelligence when performed by people.” (Kurzweil, 1990)</p>\n",
    "            <p>“The study of how to make computers do things at which, at the moment, <b>people are better</b>.” (Rich and Knight, 1991)\n",
    "</p>\n",
    "        </td>\n",
    "        <td>\n",
    "            <p>\"Computational intelligence is the study of the design of intelligent agents\" (Poole et al., 1998)\n",
    "</p>\n",
    "            <p>“AI ...is concerned with <b>intelligent behavior in artifacts</b>.” (Nilsson, 1998)\n",
    "</p>\n",
    "        </td>\n",
    "    </tr>\n",
    "</table>"
   ]
  },
  {
   "cell_type": "markdown",
   "metadata": {},
   "source": [
    "- Historically, <b>all four approaches</b> to AI have been <b>followed</b>, each by different people with different methods."
   ]
  },
  {
   "cell_type": "markdown",
   "metadata": {},
   "source": [
    "## Thinking humanly: The cognitive modeling approach"
   ]
  },
  {
   "cell_type": "markdown",
   "metadata": {},
   "source": [
    "- If we are going to say that a given program thinks like a human, we must have some way of determining how humans think. We need to get inside the actual workings of human minds. There are three ways to do this:\n",
    "    1. <b>Introspection</b>—trying to catch our own thoughts as they go.\n",
    "    2. <b>Psychological experiments</b>—observing a person in action.\n",
    "    3. <b>Through brain imaging</b>—observing the brain in action.\n",
    "- Once we have a sufﬁciently precise theory of the mind, it becomes possible to express the theory as a computer program. "
   ]
  },
  {
   "cell_type": "markdown",
   "metadata": {},
   "source": [
    "## Acting Humanly: The Turing Test approach"
   ]
  },
  {
   "cell_type": "markdown",
   "metadata": {},
   "source": [
    "<img src=\"img/Turing.jpeg\">"
   ]
  },
  {
   "cell_type": "markdown",
   "metadata": {},
   "source": [
    "### Turing Test"
   ]
  },
  {
   "cell_type": "markdown",
   "metadata": {},
   "source": [
    "- A computer passes the test if a human interrogator, after posing some written questions, cannot tell whether the written responses come from a person or from a computer."
   ]
  },
  {
   "cell_type": "markdown",
   "metadata": {},
   "source": [
    "- For now, we note that programming a computer to pass a rigorously applied test provides plenty to work on.\n",
    "- The computer would need to possess the following capabilities:\n",
    "    1. <b>Natural Language Processing [NLP]:</b> to enable it to communicate successfully in English.\n",
    "    2. <b>Knowledge representation:</b> to store what it knows or hears.\n",
    "    3. <b>Automated reasoning:</b> to use the stored information to answer questions and to draw new conclusions.\n",
    "    4. <b>Machine Learning:</b> to adapt to new circumstances and to detect and extrapolate patterns."
   ]
  },
  {
   "cell_type": "markdown",
   "metadata": {},
   "source": [
    "- Turing’s test deliberately avoided direct physical interaction between the interrogator and the computer, because physical simulation of a person is unnecessary for intelligence. \n",
    "- However, the so-called <b>Total Turing Test</b> includes a video signal so that the interrogator can test the subject’s perceptual abilities, as well as the opportunity for the interrogator to pass physical objects “through the hatch.”"
   ]
  },
  {
   "cell_type": "markdown",
   "metadata": {},
   "source": [
    "- To pass the <b>total Turing Test</b>, the computer will need:\n",
    "    5. <b>Computer-vision:</b> to perceive objects.\n",
    "    6. <b>Robotics:</b> to manipulate objects and move about."
   ]
  },
  {
   "cell_type": "markdown",
   "metadata": {},
   "source": [
    "- Yet AI researchers have devoted little effort to passing the Turing Test, believing that it is more important to study the underlying principles of intelligence than to duplicate an exemplar. \n",
    "- The quest for “<b>artiﬁcial ﬂight</b>” succeeded when the Wright brothers and others stopped imitating birds and started using wind tunnels and learning about aerodynamics. Aeronautical engineering texts do not deﬁne the goal of their ﬁeld as making “<b>machines that ﬂy so exactly like pigeons that they can fool even other pigeons</b>.”"
   ]
  },
  {
   "cell_type": "markdown",
   "metadata": {},
   "source": [
    "## Thinking rationally: The “laws of thought” approach"
   ]
  },
  {
   "cell_type": "markdown",
   "metadata": {},
   "source": [
    "- The Greek philosopher Aristotle was one of the ﬁrst to attempt to <b>codify “right thinking,”</b> that is, <b>irrefutable reasoning processes</b>.\n",
    "- His syllogisms provided <b>patterns for argument structures</b> that <b>always yielded correct conclusions when given correct premises</b>.\n",
    "- For example, “<b>Socrates is a man; all men are mortal; therefore, Socrates is mortal</b>.”"
   ]
  },
  {
   "cell_type": "markdown",
   "metadata": {},
   "source": [
    "- Logicians in the 19th century developed a precise notation for statements about all kinds of objects in the world and the relations among them. (Contrast this with ordinary arithmetic notation, which provides only for statements about numbers.) "
   ]
  },
  {
   "cell_type": "markdown",
   "metadata": {},
   "source": [
    "- There are <b>two main obstacles</b> to this approach:\n",
    "    1. First, it is not easy to take <b>informal knowledge</b> and state it in the <b>formal terms</b> required by logical notation, particularly when the knowledge is less than 100% certain. \n",
    "    2. Second, there is a big difference between solving a problem “in principle” and solving it in practice"
   ]
  },
  {
   "cell_type": "markdown",
   "metadata": {},
   "source": [
    "## Acting rationally: The rational agent approach "
   ]
  },
  {
   "cell_type": "markdown",
   "metadata": {},
   "source": [
    "### Agent"
   ]
  },
  {
   "cell_type": "markdown",
   "metadata": {},
   "source": [
    "- Agent comes from the Latin agere, to do, an agent is just something that acts.\n",
    "- All computer programs do something, but computer agents are expected to do more: operate autonomously, perceive their environment, persist over a prolonged time period, adapt to change, and create and pursue goals. A rational agent is one that acts so as to achieve the best outcome or, when there is uncertainty, the best expected outcome."
   ]
  },
  {
   "cell_type": "markdown",
   "metadata": {},
   "source": [
    "- In the “laws of thought” approach to AI, the emphasis was on correct inferences. Making correct inferences is sometimes part of being a rational agent, because one way to act rationally is to reason logically to the conclusion that a given action will achieve one’s goals and then to act on that conclusion.\n",
    "- On the other hand, correct inference is not all of rationality; in some situations, there is no provably correct thing to do, but something must still be done. \n",
    "- There are also ways of acting rationally that cannot be said to involve inference. For example, recoiling from a hot stove is a reﬂex action that is usually more successful than a slower action taken after careful deliberation. \n",
    "- All the skills needed for the Turing Test also allow an agent to act rationally. Knowledge representation and reasoning enable agents to reach good decisions. We need to be able to generate comprehensible sentences in natural language to get by in a complex society. We need learning not only for erudition, but also because it improves our ability to generate effective behavior. "
   ]
  },
  {
   "cell_type": "markdown",
   "metadata": {},
   "source": [
    "- The rational-agent approach has two advantages over the other approaches. \n",
    "    1. First, it is more general than the “laws of thought” approach because correct inference is just one of several possible mechanisms for achieving rationality\n",
    "    2. Second, it is more amenable to scientiﬁc development than are approaches based on human behavior or human thought."
   ]
  },
  {
   "cell_type": "markdown",
   "metadata": {},
   "source": [
    "# The Foundations of Artificial Intelligence"
   ]
  },
  {
   "cell_type": "markdown",
   "metadata": {},
   "source": [
    "## 1. Phiosophy"
   ]
  },
  {
   "cell_type": "markdown",
   "metadata": {},
   "source": [
    "- Can formal rules be used to draw valid conclusions?\n",
    "- How does the mind arise from a physical brain?\n",
    "- Where does knowledge come from? \n",
    "- How does knowledge lead to action? "
   ]
  },
  {
   "cell_type": "markdown",
   "metadata": {},
   "source": [
    "- <b>Aristotle (384–322 B.C.)</b> was the first to formulate a precise set of laws governing the rational part of the mind. He developed an informal system of syllogisms for proper reasoning, which in principle allowed one to generate conclusions <b>mechanically</b>, given initial premises.\n",
    "- <b>Thomas Hobbes (1588–1679)</b> proposed that reasoning was like numerical computation, that “<b>we add and subtract in our silent thoughts<b>."
   ]
  },
  {
   "cell_type": "markdown",
   "metadata": {},
   "source": [
    "- The automation of computation itself was already well under way.\n",
    "- Around 1500, <b>Leonardo da Vinci (1452–1519)</b> designed but did not build a mechanical calculator; recent reconstructions have shown the design to be functional. \n",
    "- The first known calculating machine was constructed around 1623 by the German scientist Wilhelm Schickard (1592–1635), although the Pascaline, built in 1642 by <b>Blaise Pascal (1623–1662)</b>, is more famous.\n",
    "- Pascal wrote that “the arithmetical machine produces effects which appear nearer to thought than all the actions of animals.”\n",
    "- <b>Gottfried Wilhelm Leibniz (1646–1716)</b> built a mechanical device intended to carry out operations on concepts rather than numbers, but its scope was rather limited. Leibniz did surpass Pascal by building a calculator that could add, subtract, multiply, and take roots, whereas the Pascaline could only add and subtract.\n"
   ]
  },
  {
   "cell_type": "markdown",
   "metadata": {},
   "source": [
    "## 2. Mathematics"
   ]
  },
  {
   "cell_type": "markdown",
   "metadata": {},
   "source": [
    "-  What are the formal rules to draw valid conclusions?\n",
    "- What can be computed? \n",
    "- How do we reason with uncertain information? "
   ]
  },
  {
   "cell_type": "markdown",
   "metadata": {},
   "source": [
    "- Philosophers staked out some of the fundamental ideas of AI, but the leap to a formal science required a level of mathematical formalization in three fundamental areas: logic, computation, and probability."
   ]
  },
  {
   "cell_type": "markdown",
   "metadata": {},
   "source": [
    "- Besides logic and computation, the third great contribution of mathematics to AI is the <b>theory of probability</b>.\n",
    "- <b>Thomas Bayes (1702–1761)</b>, who appears on the front cover of this book, proposed a rule for updating probabilities in the light of new evidence. Bayes’ rule underlies most modern approaches to uncertain reasoning in AI systems."
   ]
  },
  {
   "cell_type": "markdown",
   "metadata": {},
   "source": [
    "## 3. Cognitive Science"
   ]
  },
  {
   "cell_type": "markdown",
   "metadata": {},
   "source": [
    "- How do brains process information?"
   ]
  },
  {
   "cell_type": "markdown",
   "metadata": {},
   "source": [
    "- Neuroscience is the study of the nervous system, particularly the brain."
   ]
  },
  {
   "cell_type": "markdown",
   "metadata": {},
   "source": [
    "## 4. Psychology"
   ]
  },
  {
   "cell_type": "markdown",
   "metadata": {},
   "source": [
    "- How do humans and animals think and act?"
   ]
  },
  {
   "cell_type": "markdown",
   "metadata": {},
   "source": [
    "## 5. Computer Engineering"
   ]
  },
  {
   "cell_type": "markdown",
   "metadata": {},
   "source": [
    "- How can we build an efﬁcient computer?\n",
    "- For artiﬁcial intelligence to succeed, we need two things: intelligence and an artifact. The computer has been the artifact of choice."
   ]
  },
  {
   "cell_type": "markdown",
   "metadata": {},
   "source": [
    "## 6. Linguistics"
   ]
  },
  {
   "cell_type": "markdown",
   "metadata": {},
   "source": [
    "- How does language relate to thought?"
   ]
  },
  {
   "cell_type": "markdown",
   "metadata": {},
   "source": [
    "# The History of AI"
   ]
  },
  {
   "cell_type": "markdown",
   "metadata": {},
   "source": [
    "## The gestation of Artificial Intelligence [1943 - 1955]\n",
    "\n",
    "- The first work that is now generally recognized as AI was done by <b>Warren McCulloch</b> and <b>Walter Pitts</b> (1943).\n",
    "    \n",
    "- They showed, for example, that any computable function could be computed by some network of connected neurons, and that all the logical connectives (and, or, not, etc.) could be implemented by simple net structures. \n",
    " \n",
    "- Later, at <b>Princeton</b>, <b>Marvin Minsky</b> studied universal computation in neural networks. His Ph.D. committee was skeptical about whether this kind of work should be considered mathematics, but <b>von Neumann</b> reportedly said, “If it isn’t now, it will be someday.” Minsky was later to prove influential theorems showing the limitations of neural network research."
   ]
  },
  {
   "cell_type": "markdown",
   "metadata": {},
   "source": [
    "<img src=\"img/Minsky-2.jpg\">"
   ]
  },
  {
   "cell_type": "markdown",
   "metadata": {},
   "source": [
    "## The birth of artificial intelligence [1956]\n",
    "\n",
    "- Princeton was home to another influential figure in AI, <b>John McCarthy</b>.\n",
    "- After receiving his PhD there in 1951 and working for two years as an instructor, McCarthy moved to Stanford and then to Dartmouth College, which was to become the official birthplace of the field.\n",
    "- McCarthy convinced <b>Minsky</b>, <b>Claude Shannon</b>, and <b>Nathaniel Rochester</b> to help him bring together U.S. researchers interested in automata theory, neural nets, and the study of intelligence.\n",
    "\n",
    "\n",
    "- They organized a <b>two-month workshop</b> at Dartmouth in the summer of <b>1956</b>. The proposal states:\n",
    "    - We propose that a 2 month, 10 man study of artificial intelligence be carried out during the summer of 1956 at Dartmouth College in Hanover, New Hampshire.The study is to proceed on the basis of the conjecture that every aspect of learning or any other feature of intelligence can in principle be so precisely described that a machine can be made to simulate it. An attempt will be made to find how to make machines use language, form abstractions and concepts, solve kinds of problems now reserved for humans, and improve themselves. We think that a significant advance can be made in one or more of these problems if a carefully\n",
    "        selected group of scientists work on it together for a summer.\n",
    "\n",
    "- There were 10 attendees in all, including Trenchard More from Princeton, <b>Arthur Samuel from IBM</b>, and Ray Solomonoff and Oliver Selfridge from MIT.\n",
    "\n",
    "- <b>Newell</b> and <b>Simon</b> already had a reasoning program, the <b>Logic Theorist (LT)</b>, about which Simon claimed, “We have invented a computer program capable of thinking non-numerically, and thereby solved the venerable mind–body problem.” Soon after the workshop, the program was able to prove most of the theorems in Chapter 2 of Rus-sell and Whitehead’s <b>Principia Mathematica</b>. Russell was reportedly delighted when Simon showed him that the program had come up with a proof for one theorem that was shorter than the one in Principia. The editors of the Journal of Symbolic Logic were less impressed; they rejected a paper coauthored by Newell, Simon, and Logic Theorist."
   ]
  },
  {
   "cell_type": "markdown",
   "metadata": {},
   "source": [
    "<img src=\"img/Russell.jpg\">"
   ]
  },
  {
   "cell_type": "markdown",
   "metadata": {},
   "source": [
    "## The return of neural networks [1986–present]\n",
    "\n",
    "- In the mid-1980s at least four different groups reinvented the back-propagation learning algorithm first found in 1969 by Bryson and Ho. The algorithm was applied to many learning problems in computer science and psychology, and the widespread dissemination of the results in the collection Parallel Distributed Processing (Rumelhart and McClelland, 1986) caused great excitement."
   ]
  }
 ],
 "metadata": {
  "kernelspec": {
   "display_name": "Python 3",
   "language": "python",
   "name": "python3"
  },
  "language_info": {
   "codemirror_mode": {
    "name": "ipython",
    "version": 3
   },
   "file_extension": ".py",
   "mimetype": "text/x-python",
   "name": "python",
   "nbconvert_exporter": "python",
   "pygments_lexer": "ipython3",
   "version": "3.6.7"
  }
 },
 "nbformat": 4,
 "nbformat_minor": 2
}
