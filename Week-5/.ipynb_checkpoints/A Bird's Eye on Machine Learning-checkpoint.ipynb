{
 "cells": [
  {
   "cell_type": "markdown",
   "metadata": {},
   "source": [
    "# Definitions\n",
    "\n",
    "- Machine Learning is the field of study that gives computers the ability to learn <b>without being explicitly programmed</b>. [<b>Arthur Samuel</b>, 1959]\n",
    "- A computer program is said to learn from <b>experience</b> $E$ with respect to <b>some task</b> $T$ and some <b>performance measure</b> $P$, if its <b>performance on</b> $T$, as <b>measured by</b> $P$, improves with <b>experience</b> $E$. [<b>Tom Mitchell</b>, 1997]"
   ]
  },
  {
   "cell_type": "markdown",
   "metadata": {},
   "source": [
    "# Example: A Spam Classifier\n",
    "\n",
    "- For example, your <b>spam filter</b> is a Machine Learning program that can learn to flag spam given examples of spam emails (e.g., flagged by users) and examples of regular (nonspam, also called “ham”) emails.\n",
    "- The examples that the system uses to learn are called the <b>training set</b>.\n",
    "- Each training example is called a <b>training instance (or sample)</b>.\n",
    "- In this case, the task $T$ is to <b>flag spam for new emails</b>, the experience $E$ is the <b>training data</b>, and the performance measure $P$ needs to be defined; for example, you can use the <b>ratio</b> of correctly classified emails.\n",
    "- This particular performance measure is called <b>accuracy</b> and it is often used in <b>classification tasks</b>."
   ]
  },
  {
   "cell_type": "markdown",
   "metadata": {},
   "source": [
    "# Why Machine Learning?\n",
    "\n",
    "- In the <b>early days</b> of “intelligent” applications, many systems used <b>handcoded rules</b> of “<b>if</b> ” and “<b>else</b>” decisions to process data or adjust to user input. \n",
    "- Think of a spam filter whose job is to move the inappropriate incoming email messages to a spam folder. \n",
    "- You could make up a <b>blacklist</b> of words that would result in an email being marked as spam.\n",
    "- Manually crafting decision rules is feasible <b>for some applications</b>, particularly those in which humans have a good understanding of the process to model.\n",
    "- However, using handcoded rules to make decisions has two major <b>disadvantages</b>:\n",
    "\n",
    "    1. The logic required to make a decision is <b>specific</b> to a <b>single domain</b> and <b>task</b>. Changing the task even slightly might require a <b>rewrite of the whole system</b>.\n",
    "    2. Designing rules requires a <b>deep understanding</b> of how a decision should be made by a human expert.\n",
    "    \n",
    "    \n",
    "- One example of where this handcoded approach <b>will fail</b> is in <b>detecting faces in images</b>.\n",
    "- However, face detection was an <b>unsolved problem</b> until as recently as <b>2001</b>.\n",
    "- The main problem is that the way in which pixels (which make up an image in a computer) are “perceived” by the computer is very different from how humans perceive a face.\n",
    "- This difference in representation makes it basically <b>impossible</b> for a human to come up with a good <b>set of rules</b> to describe <b>what constitutes a face</b> in a digital image.\n",
    "- Using machine learning, however, simply presenting a program with a large collection of images of faces is enough for an algorithm to determine what characteristics are needed to identify a face."
   ]
  },
  {
   "cell_type": "markdown",
   "metadata": {},
   "source": [
    "# Types of Machine Learning Algorithms\n",
    "\n",
    "- Machine Learning systems can be classified according to the <b>amount and type</b> of <b>supervision</b> they get during training.\n",
    "- These are the major categories: \n",
    "\n",
    "    1. <b>Supervised learning</b>.\n",
    "    3. <b>Reinforcement Learning</b>."
   ]
  },
  {
   "cell_type": "markdown",
   "metadata": {},
   "source": [
    "## Supervised learning\n",
    "\n",
    "- In supervised learning, the training data you feed to the algorithm includes the <b>desired solutions</b>, called <b>labels</b>"
   ]
  },
  {
   "cell_type": "markdown",
   "metadata": {},
   "source": [
    "### Classification\n",
    "\n",
    "- A typical supervised learning task is <b>classification</b>.\n",
    "- In classification, the goal is to predict a <b>class label</b>, which is a <b>choice</b> from a <b>predefined list of possibilities</b>.\n",
    "- The spam filter is a good example of this: it is trained with many example emails along with their <b>class (spam or ham)</b>, and it must learn how to classify new emails."
   ]
  },
  {
   "cell_type": "markdown",
   "metadata": {},
   "source": [
    "##### Examples:\n",
    "\n",
    "1. Identifying the type of Iris"
   ]
  },
  {
   "cell_type": "markdown",
   "metadata": {},
   "source": [
    "### Regrssion\n",
    "\n",
    "- Another typical task is to <b>predict a target numeric value</b>, such as the <b>price of a car</b>, given a set of <b>features</b> (mileage, age, brand, etc.) called predictors.\n",
    "- This sort of task is called <b>regression</b>\n",
    "- For regression tasks, the goal is to predict a <b>continuous number</b>, or a floating-point number in programming terms (or <b>real number</b> in mathematical terms)."
   ]
  },
  {
   "cell_type": "markdown",
   "metadata": {},
   "source": [
    "##### Examples:\n",
    "\n",
    "1. Predicting Housing Prices"
   ]
  },
  {
   "cell_type": "markdown",
   "metadata": {},
   "source": [
    "### Examples of Supervised Learning Algorithms\n",
    "\n",
    "1. <b>Linear Regression</b> (Regression) \n",
    "2. <b>k-Nearest Neighbors</b> (Classification)"
   ]
  },
  {
   "cell_type": "markdown",
   "metadata": {},
   "source": [
    "## Reinforcement Learning\n",
    "\n",
    "- Reinforcement Learning is a very different beast.\n",
    "- The learning system, called an <b>agent</b> in this context, can observe the environment, select and perform actions, and get <b>rewards</b> in return (or <b>penalties</b> in the form of negative rewards)\n",
    "- It must then learn by itself what is the best strategy, called a <b>policy</b>, to get the most reward over time.\n",
    "- A policy defines <b>what action</b> the agent should choose when it is in a given situation."
   ]
  },
  {
   "cell_type": "markdown",
   "metadata": {},
   "source": [
    "<img src=\"5.png\">"
   ]
  }
 ],
 "metadata": {
  "kernelspec": {
   "display_name": "Python 3",
   "language": "python",
   "name": "python3"
  },
  "language_info": {
   "codemirror_mode": {
    "name": "ipython",
    "version": 3
   },
   "file_extension": ".py",
   "mimetype": "text/x-python",
   "name": "python",
   "nbconvert_exporter": "python",
   "pygments_lexer": "ipython3",
   "version": "3.6.7"
  },
  "latex_envs": {
   "LaTeX_envs_menu_present": true,
   "autoclose": false,
   "autocomplete": true,
   "bibliofile": "biblio.bib",
   "cite_by": "apalike",
   "current_citInitial": 1,
   "eqLabelWithNumbers": true,
   "eqNumInitial": 1,
   "hotkeys": {
    "equation": "Ctrl-E",
    "itemize": "Ctrl-I"
   },
   "labels_anchors": false,
   "latex_user_defs": false,
   "report_style_numbering": false,
   "user_envs_cfg": false
  },
  "toc": {
   "base_numbering": 1,
   "nav_menu": {},
   "number_sections": true,
   "sideBar": true,
   "skip_h1_title": false,
   "title_cell": "Table of Contents",
   "title_sidebar": "Contents",
   "toc_cell": false,
   "toc_position": {},
   "toc_section_display": true,
   "toc_window_display": false
  }
 },
 "nbformat": 4,
 "nbformat_minor": 2
}
