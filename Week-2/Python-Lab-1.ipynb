{
 "cells": [
  {
   "cell_type": "markdown",
   "metadata": {},
   "source": [
    "# Arithmetic Operators \n",
    "\n",
    "<table>\n",
    "    <tr>\n",
    "        <td>Operation</td>\n",
    "        <td>Operator</td>\n",
    "    </tr>\n",
    "    <tr>\n",
    "        <td>Addition</td>\n",
    "        <td>+</td>\n",
    "    </tr>\n",
    "    <tr>\n",
    "        <td>Subtraction</td>\n",
    "        <td>-</td>\n",
    "    </tr>\n",
    "    <tr>\n",
    "        <td>Multiplication</td>\n",
    "        <td>*</td>\n",
    "    </tr>\n",
    "    <tr>\n",
    "        <td>Division [Always returns a float number]</td>\n",
    "        <td>/</td>\n",
    "    </tr>\n",
    "    <tr>\n",
    "        <td>Integer Division [Floor division]</td>\n",
    "        <td>//</td>\n",
    "    </tr>\n",
    "    <tr>\n",
    "        <td>Exponentiation</td>\n",
    "        <td>**</td>\n",
    "    </tr>\n",
    "    <tr>\n",
    "        <td>Modulo</td>\n",
    "        <td>%</td>\n",
    "    </tr>\n",
    "</table>"
   ]
  },
  {
   "cell_type": "markdown",
   "metadata": {},
   "source": [
    "- Since exponentiation has higher precedence than -, -3 ** 2 will be interpreted as -(3 ** 2) and thus result in -9. To avoid this and get 9, you can use (-3) ** 2."
   ]
  },
  {
   "cell_type": "markdown",
   "metadata": {},
   "source": [
    "- operators with mixed type operands <b>convert</b> the integer operand to floating point"
   ]
  },
  {
   "cell_type": "code",
   "execution_count": 1,
   "metadata": {},
   "outputs": [
    {
     "data": {
      "text/plain": [
       "14.0"
      ]
     },
     "execution_count": 1,
     "metadata": {},
     "output_type": "execute_result"
    }
   ],
   "source": [
    "4 * 3.75 - 1"
   ]
  },
  {
   "cell_type": "markdown",
   "metadata": {},
   "source": [
    "# Comparison Operators\n",
    "\n",
    " <table>\n",
    "    <tr>\n",
    "        <td>Operation</td>\n",
    "        <td>Operator</td>\n",
    "    </tr>\n",
    "    <tr>\n",
    "        <td>Greater than</td>\n",
    "        <td>></td>\n",
    "    </tr>\n",
    "    <tr>\n",
    "        <td>Less than</td>\n",
    "        <td><</td>\n",
    "    </tr>\n",
    "    <tr>\n",
    "        <td>Greater than or equal to</td>\n",
    "        <td>>=</td>\n",
    "    </tr>\n",
    "    <tr>\n",
    "        <td>Less than or equal to</td>\n",
    "        <td><=</td>\n",
    "    </tr>\n",
    "    <tr>\n",
    "        <td>is equal?</td>\n",
    "        <td>==</td>\n",
    "    </tr>\n",
    "    <tr>\n",
    "        <td>is not equal?</td>\n",
    "        <td>!=</td>\n",
    "    </tr>\n",
    "</table>"
   ]
  },
  {
   "cell_type": "markdown",
   "metadata": {},
   "source": [
    "- All comparison operators have the <b>same priority</b>, which is <b>lower than that of all arithmetic operators.</b>\n",
    "- Comparisons <b>can be chained</b>. For example, a < b == c tests whether a is less than b <b>and moreover</b> b equals c.\n",
    "- Comparison operators may be chained: X < Y < Z produces the same result as X < Y and Y < Z .\n",
    "- The comparison operators <b>in</b> and <b>not in</b> check whether a value <b>occurs (does not occur)</b> in a sequence. \n",
    "- The operators <b>is</b> and <b>is not</b> compare whether two objects are really the same object; <b>this only matters for mutable objects like lists</b>."
   ]
  },
  {
   "cell_type": "code",
   "execution_count": 2,
   "metadata": {},
   "outputs": [
    {
     "name": "stdout",
     "output_type": "stream",
     "text": [
      "Yes\n"
     ]
    }
   ],
   "source": [
    "a = 1\n",
    "b = 2\n",
    "c = 2\n",
    "\n",
    "if(a < b == c):\n",
    "    print(\"Yes\")"
   ]
  },
  {
   "cell_type": "code",
   "execution_count": 3,
   "metadata": {},
   "outputs": [],
   "source": [
    "x = 2\n",
    "y = 4\n",
    "z = 6"
   ]
  },
  {
   "cell_type": "code",
   "execution_count": 4,
   "metadata": {},
   "outputs": [
    {
     "data": {
      "text/plain": [
       "True"
      ]
     },
     "execution_count": 4,
     "metadata": {},
     "output_type": "execute_result"
    }
   ],
   "source": [
    "x < y < z"
   ]
  },
  {
   "cell_type": "code",
   "execution_count": 5,
   "metadata": {},
   "outputs": [
    {
     "data": {
      "text/plain": [
       "False"
      ]
     },
     "execution_count": 5,
     "metadata": {},
     "output_type": "execute_result"
    }
   ],
   "source": [
    "x < y > z"
   ]
  },
  {
   "cell_type": "code",
   "execution_count": 6,
   "metadata": {},
   "outputs": [
    {
     "data": {
      "text/plain": [
       "True"
      ]
     },
     "execution_count": 6,
     "metadata": {},
     "output_type": "execute_result"
    }
   ],
   "source": [
    "1 < 2 < 3.0 < 4"
   ]
  },
  {
   "cell_type": "markdown",
   "metadata": {},
   "source": [
    "- Notice again how mixed types are allowed in numeric expressions (only); in the second test here, Python compares values in terms of the more complex type, float."
   ]
  },
  {
   "cell_type": "code",
   "execution_count": 8,
   "metadata": {},
   "outputs": [
    {
     "data": {
      "text/plain": [
       "False"
      ]
     },
     "execution_count": 8,
     "metadata": {},
     "output_type": "execute_result"
    }
   ],
   "source": [
    "# Strange !\n",
    "\n",
    "1.1 + 2.2 == 3.3"
   ]
  },
  {
   "cell_type": "markdown",
   "metadata": {},
   "source": [
    "- This stems from the fact that floating-point numbers cannot represent some values exactly due to their limited number of bits—a fundamental issue in numeric programming not unique to Python, which we’ll learn more about later when we meet decimals and fractions, tools that can address such limitations."
   ]
  },
  {
   "cell_type": "markdown",
   "metadata": {},
   "source": [
    "# Logical operators\n",
    "\n",
    "<table>\n",
    "    <tr>\n",
    "        <td>Operation</td>\n",
    "        <td>Operator</td>\n",
    "    </tr>\n",
    "    <tr>\n",
    "        <td>NOT</td>\n",
    "        <td>not</td>\n",
    "    </tr>\n",
    "    <tr>\n",
    "        <td>AND</td>\n",
    "        <td>and</td>\n",
    "    </tr>\n",
    "    <tr>\n",
    "        <td>OR</td>\n",
    "        <td>or</td>\n",
    "    </tr>\n",
    "</table>"
   ]
  },
  {
   "cell_type": "markdown",
   "metadata": {},
   "source": [
    "- Comparisons may be combined using the Boolean operators <b>and</b> and <b>or</b>, and the outcome of a comparison (or of any other Boolean expression) may be negated with <b>not</b>. \n",
    "- These have <b>lower priorities than comparison operators</b>; between them, <b>not has the highest</b> priority and <b>or the lowest</b>, so that A and not B or C is equivalent to (A and (not B)) or C."
   ]
  },
  {
   "cell_type": "markdown",
   "metadata": {},
   "source": [
    "# Variables and Assignemnt:\n",
    "\n",
    "- Variables names can contain <b>alphanumeric</b> characters,but they <b>can't start</b> with a <b>digit</b> or any of <b>special characters except of _</b>\n",
    "- Python allows <b>multiple assignments</b> for example: x, y = 2, 3"
   ]
  },
  {
   "cell_type": "markdown",
   "metadata": {},
   "source": [
    "- Variables are created when they are first assigned values.\n",
    "- Variables are replaced with their values when used in expressions.\n",
    "- Variables must be assigned before they can be used in expressions.\n",
    "- Variables refer to objects and are never declared ahead of time."
   ]
  },
  {
   "cell_type": "code",
   "execution_count": 9,
   "metadata": {},
   "outputs": [],
   "source": [
    "x = 5\n",
    "_name = 'Alan Turing'\n",
    "x, y = 5, 3"
   ]
  },
  {
   "cell_type": "markdown",
   "metadata": {},
   "source": [
    "- When we type a = 3 in an interactive session or program file, for instance, how does Python know that a should stand for an integer? For that matter, how does Python know what a is at all?\n",
    "- In Python, types are determined automatically at runtime, not in response to declarations in your code."
   ]
  },
  {
   "cell_type": "code",
   "execution_count": 10,
   "metadata": {},
   "outputs": [],
   "source": [
    "a = 3\n",
    "a = 'spam'\n",
    "a = 1.23"
   ]
  },
  {
   "cell_type": "markdown",
   "metadata": {},
   "source": [
    "- This isn’t typical Python code, but it does work— a starts out as an integer, then be-comes a string, and finally becomes a floating-point number. \n",
    "- This example tends to look especially odd to ex-C programmers, as it appears as though the type of a changes from integer to string when we say a = 'spam' ."
   ]
  },
  {
   "cell_type": "markdown",
   "metadata": {},
   "source": [
    "## The del Statement\n",
    "\n",
    "- You can delete a variable after creating it"
   ]
  },
  {
   "cell_type": "code",
   "execution_count": 11,
   "metadata": {},
   "outputs": [],
   "source": [
    "x = 5"
   ]
  },
  {
   "cell_type": "code",
   "execution_count": 12,
   "metadata": {},
   "outputs": [
    {
     "data": {
      "text/plain": [
       "5"
      ]
     },
     "execution_count": 12,
     "metadata": {},
     "output_type": "execute_result"
    }
   ],
   "source": [
    "x"
   ]
  },
  {
   "cell_type": "code",
   "execution_count": 13,
   "metadata": {},
   "outputs": [],
   "source": [
    "del x"
   ]
  },
  {
   "cell_type": "code",
   "execution_count": 14,
   "metadata": {},
   "outputs": [
    {
     "ename": "NameError",
     "evalue": "name 'x' is not defined",
     "output_type": "error",
     "traceback": [
      "\u001b[0;31m---------------------------------------------------------------------------\u001b[0m",
      "\u001b[0;31mNameError\u001b[0m                                 Traceback (most recent call last)",
      "\u001b[0;32m<ipython-input-14-6fcf9dfbd479>\u001b[0m in \u001b[0;36m<module>\u001b[0;34m\u001b[0m\n\u001b[0;32m----> 1\u001b[0;31m \u001b[0mx\u001b[0m\u001b[0;34m\u001b[0m\u001b[0;34m\u001b[0m\u001b[0m\n\u001b[0m",
      "\u001b[0;31mNameError\u001b[0m: name 'x' is not defined"
     ]
    }
   ],
   "source": [
    "x"
   ]
  },
  {
   "cell_type": "markdown",
   "metadata": {},
   "source": [
    "# If Statement"
   ]
  },
  {
   "cell_type": "code",
   "execution_count": 16,
   "metadata": {},
   "outputs": [
    {
     "name": "stdout",
     "output_type": "stream",
     "text": [
      "Positive\n"
     ]
    }
   ],
   "source": [
    "x = 5\n",
    "\n",
    "if x == 0:\n",
    "    print('The number = Zero')\n",
    "elif x > 0:\n",
    "    print('Positive')\n",
    "else:\n",
    "    print('Negative')"
   ]
  },
  {
   "cell_type": "markdown",
   "metadata": {},
   "source": [
    "- There can be <b>zero or more</b> elif parts, and the else part is <b>optional</b>."
   ]
  },
  {
   "cell_type": "markdown",
   "metadata": {},
   "source": [
    "## Ternary selection\n",
    "\n",
    "- Ternary selection (x is evaluated only if y is true)"
   ]
  },
  {
   "cell_type": "code",
   "execution_count": 18,
   "metadata": {},
   "outputs": [
    {
     "name": "stdout",
     "output_type": "stream",
     "text": [
      "1\n"
     ]
    }
   ],
   "source": [
    "y = True\n",
    "\n",
    "x = 1 if y else 3\n",
    "\n",
    "print(x)"
   ]
  },
  {
   "cell_type": "markdown",
   "metadata": {},
   "source": [
    "- There is <b>no switch or case</b> statement in Python that selects an action based on a variable’s value."
   ]
  },
  {
   "cell_type": "markdown",
   "metadata": {},
   "source": [
    "# The for statement\n",
    "\n",
    "- range(start, end)\n",
    "- range(start, end, step)\n",
    "- If you do need to iterate over a sequence of numbers, the built-in function range() comes in handy. It generates arithmetic progressions.\n",
    "- The given end point is never part of the generated sequence; <u>range(5) generates 5 values</u>.\n",
    "- The <b>break</b> statement, like in C, breaks out of the <b>innermost</b> enclosing for or while loop.\n",
    "- The <b>continue</b> statement, also borrowed from C, continues with the next iteration of the loop."
   ]
  },
  {
   "cell_type": "code",
   "execution_count": 19,
   "metadata": {},
   "outputs": [
    {
     "name": "stdout",
     "output_type": "stream",
     "text": [
      "0\n",
      "1\n",
      "2\n",
      "3\n",
      "4\n"
     ]
    }
   ],
   "source": [
    "for i in range(5):\n",
    "    print(i)"
   ]
  },
  {
   "cell_type": "markdown",
   "metadata": {},
   "source": [
    "- It is <B>possible</b> to let the range start at <b>another number</b>, or to specify a <b>different increment</b> (even negative; sometimes this is called the ‘step’)"
   ]
  },
  {
   "cell_type": "code",
   "execution_count": 20,
   "metadata": {},
   "outputs": [
    {
     "name": "stdout",
     "output_type": "stream",
     "text": [
      "5 6 7 8 9 "
     ]
    }
   ],
   "source": [
    "for i in range(5, 10):\n",
    "    print(i, end = ' ')"
   ]
  },
  {
   "cell_type": "code",
   "execution_count": 21,
   "metadata": {},
   "outputs": [
    {
     "name": "stdout",
     "output_type": "stream",
     "text": [
      "0 2 4 6 8 10 "
     ]
    }
   ],
   "source": [
    "for i in range(0, 11, 2):\n",
    "    print(i, end = ' ')"
   ]
  },
  {
   "cell_type": "markdown",
   "metadata": {},
   "source": [
    "- Python’s for statement iterates over the items of any sequence (a list or a string), in the order that they appear in the sequence."
   ]
  },
  {
   "cell_type": "code",
   "execution_count": 22,
   "metadata": {},
   "outputs": [
    {
     "name": "stdout",
     "output_type": "stream",
     "text": [
      "M o n t y   p y t h o n "
     ]
    }
   ],
   "source": [
    "string = 'Monty python'\n",
    "\n",
    "for l in string:\n",
    "    print(l, end = ' ')"
   ]
  },
  {
   "cell_type": "markdown",
   "metadata": {},
   "source": [
    "## The else clause:\n",
    "\n",
    "- Loop statements [for and while] <b>may have</b> an <b>else clause</b>; it is executed when the loop <b>terminates</b> through exhaustion of the list (with for) or when the condition becomes false (with while), <u>but not when the loop is terminated by a break statement</u>."
   ]
  },
  {
   "cell_type": "markdown",
   "metadata": {},
   "source": [
    "- The loop else clause is also run if the body of the loop is never executed, as you don’t\n",
    "run a break in that event either; in a while loop, this happens if the test in the header\n",
    "is false to begin with."
   ]
  },
  {
   "cell_type": "code",
   "execution_count": 26,
   "metadata": {},
   "outputs": [
    {
     "name": "stdout",
     "output_type": "stream",
     "text": [
      "Strange feature!\n"
     ]
    }
   ],
   "source": [
    "string = \"Strange \"\n",
    "\n",
    "for l in string:\n",
    "    print(l, end = '')\n",
    "else:\n",
    "    print('feature!')"
   ]
  },
  {
   "cell_type": "code",
   "execution_count": 27,
   "metadata": {},
   "outputs": [
    {
     "name": "stdout",
     "output_type": "stream",
     "text": [
      "0 1 2 3 4 It works also with while, when the condition becomes false !\n"
     ]
    }
   ],
   "source": [
    "i = 0\n",
    "\n",
    "while i < 5:\n",
    "    print(i, end = ' ')\n",
    "    i += 1\n",
    "    \n",
    "else:\n",
    "    print('It works also with while, when the condition becomes false !')"
   ]
  }
 ],
 "metadata": {
  "kernelspec": {
   "display_name": "Python 3",
   "language": "python",
   "name": "python3"
  },
  "language_info": {
   "codemirror_mode": {
    "name": "ipython",
    "version": 3
   },
   "file_extension": ".py",
   "mimetype": "text/x-python",
   "name": "python",
   "nbconvert_exporter": "python",
   "pygments_lexer": "ipython3",
   "version": "3.6.7"
  }
 },
 "nbformat": 4,
 "nbformat_minor": 2
}
