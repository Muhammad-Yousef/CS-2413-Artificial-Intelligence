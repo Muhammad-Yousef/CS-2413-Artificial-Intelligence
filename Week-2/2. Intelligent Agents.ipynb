{
 "cells": [
  {
   "cell_type": "markdown",
   "metadata": {},
   "source": [
    "# Agents and Environments\n",
    "\n",
    "- <i>In which we discuss the <b>nature of agents</b>, perfect or otherwise, the <b>diversity of environments</b>, and the <b>resulting menagerie of agent types</b>.</i>"
   ]
  },
  {
   "cell_type": "markdown",
   "metadata": {},
   "source": [
    "-  We describe a number of basic “<b>skeleton</b>” agent designs, which we <b>ﬂesh out</b> in the rest of the book.\n",
    "- <b>Rational agents</b> is our approach to artificial intelligence."
   ]
  },
  {
   "cell_type": "markdown",
   "metadata": {},
   "source": [
    "# Agent\n",
    "\n",
    "- An agent is <b>anything</b> that can be viewed as <b>perceiving its environment</b> through <b>sensors</b> and <b>acting upon that environment</b> through <b>actuators</b>."
   ]
  },
  {
   "cell_type": "markdown",
   "metadata": {},
   "source": [
    "<img src='img/01.png'>"
   ]
  },
  {
   "cell_type": "markdown",
   "metadata": {},
   "source": [
    "- A human agent has eyes,ears, and other organs for sensors and hands, legs, vocal tract, and so on for actuators.\n",
    "- A robotic agent might have cameras and infrared range ﬁnders for sensors and various motors for actuators"
   ]
  },
  {
   "cell_type": "markdown",
   "metadata": {},
   "source": [
    "## Percept:\n",
    "\n",
    "- We use the term <b>percept</b> to refer to the <b>agent’s perceptual inputs at any given instant</b>."
   ]
  },
  {
   "cell_type": "markdown",
   "metadata": {},
   "source": [
    "## The vacuum-cleaner world [Example]\n",
    "\n",
    "- This particular world has just <b>two locations</b>: squares <b>A</b> and <b>B</b>.\n",
    "- The vacuum agent perceives <b>which square it is in</b> and <b>whether there is dirt</b> in the square.\n",
    "- It can <b>choose</b> to <b>move left</b>, <b>move right</b>, <b>suck up the dirt</b>, or <b>do nothing</b>.\n",
    "- One very simple <b>agent function</b> is the following: if the current square is dirty, then suck; otherwise, move to the other square."
   ]
  },
  {
   "cell_type": "markdown",
   "metadata": {},
   "source": [
    "<img src=\"img/04.png\">"
   ]
  },
  {
   "cell_type": "markdown",
   "metadata": {},
   "source": [
    "# Good Behavior: The concept of rationality"
   ]
  },
  {
   "cell_type": "markdown",
   "metadata": {},
   "source": [
    "## Rational Agent\n",
    "\n",
    "- A rational agent is one that <b>does the right thing</b>."
   ]
  },
  {
   "cell_type": "markdown",
   "metadata": {},
   "source": [
    "- Obviously, doing the right thing is better than doing the wrong thing, but <b>what does it mean to do the right thing</b>?\n",
    "- We answer this age-old question in an age-old way: <b>by considering the consequences of the agent’s behavior</b>.\n",
    "- When an agent is <b>plunked down</b> in an <b>environment</b>, it <b>generates</b> a <b>sequence of actions</b> according to the <b>percepts</b> it receives. <u>This sequence of actions causes the environment to go through a sequence of states</u>. \n",
    "- Notice that we said <i><u>environment states</u></i>, not <i><u>agent state</u></i>.\n",
    "- If the sequence is <b>desirable</b>, then the agent has <b>performed well</b>.\n",
    "- This notion of desirability is captured by a <b>performance measure</b> that <b>evaluates</b> any given <b>sequence of environment states</b>."
   ]
  },
  {
   "cell_type": "markdown",
   "metadata": {},
   "source": [
    "# The Nature of Environment\n",
    "\n",
    "- Now that we have a definition of rationality, we are almost ready to think about building rational agents.\n",
    "- First, however, we must think about <b>task environments</b>, which are essentially the “<b>problems</b>” to which <b>rational agents</b> are the “<b>solutions</b>.”"
   ]
  },
  {
   "cell_type": "markdown",
   "metadata": {},
   "source": [
    "## Specifying the task environment\n",
    "\n",
    "- In our discussion of the rationality of the <b>vaccum-cleaner agent</b>, we had to specify the <b>performance measure</b>, the <b>environment</b>, and the agent’s <b>actuators</b> and <b>sensors</b>. We <b>group</b> all these under the heading of the <b>task environment</b>.\n",
    "- For the acronymically minded, we call this the <b>PEAS</b> (<b>P</b>erformance, <b>E</b>nvironment, <b>A</b>ctuators, <b>S</b>ensors) description"
   ]
  },
  {
   "cell_type": "markdown",
   "metadata": {},
   "source": [
    "- <b>In designing an agent</b>, the <b>ﬁrst step</b> must always be to specify the <b>task environment as fully as possible</b>. "
   ]
  },
  {
   "cell_type": "markdown",
   "metadata": {},
   "source": [
    "###  An Automated Taxi driver. [Example]\n",
    "\n",
    "- The full driving task is extremely <b>open-ended</b>.\n",
    "- There is <b>no limit</b> to the <b>novel combinations of circumstances</b> that can arise—another reason we chose it as a focus for discussion."
   ]
  },
  {
   "cell_type": "markdown",
   "metadata": {},
   "source": [
    "<img src=\"img/05.png\">"
   ]
  },
  {
   "cell_type": "markdown",
   "metadata": {},
   "source": [
    "- First, what is the <b>performance measure</b> to which we would like our automated driver to aspire?\n",
    "- Desirable qualities include getting to the correct destination; minimizing fuel consumption and wear and tear; minimizing the trip time or cost; minimizing violations of traffic laws and disturbances to other drivers; maximizing safety and passenger comfort; maximizing profits.\n",
    "- Obviously, some of these goals <b>conflict</b>, so <b>tradeoffs</b> will be required."
   ]
  },
  {
   "cell_type": "markdown",
   "metadata": {},
   "source": [
    "- Next, what is the driving <b>environment</b> that the taxi will face?\n",
    "- Any taxi driver must deal with a variety of roads, ranging from rural lanes and urban alleys to 12-lane freeways.\n",
    "- The roads contain other traffic, pedestrians, stray animals, road works, police cars, puddles, and potholes.\n",
    "- The taxi must also interact with potential and actual passengers. \n",
    "- There are also some optional choices. The taxi might need to operate in Southern California, where snow is seldom a problem, or in Alaska, where it seldom is not.\n",
    "- It could always be driving on the right, or we might want it to be flexible enough to drive on the left when in Britain or Japan.\n",
    "- Obviously, the <b>more restricted</b> the <b>environment</b>, the <b>easier</b> the <b>design problem</b>."
   ]
  },
  {
   "cell_type": "markdown",
   "metadata": {},
   "source": [
    "- The <b>actuators</b> for an automated taxi include those available to a human driver: control over the engine through the accelerator and control over steering and braking.\n",
    "- In addition, it will need output to a display screen or voice synthesizer to talk back to the passengers, and perhaps some way to communicate with other vehicles, politely or otherwise."
   ]
  },
  {
   "cell_type": "markdown",
   "metadata": {},
   "source": [
    "# Properties of task environment"
   ]
  },
  {
   "cell_type": "markdown",
   "metadata": {},
   "source": [
    "### Single Agent Vs. Multi Agent"
   ]
  },
  {
   "cell_type": "markdown",
   "metadata": {},
   "source": [
    "- The distinction between single-agent and multiagent environments may seem simple enough. For example, an agent solving a crossword puzzle by itself is clearly in a single-agent environment, whereas an agent playing chess is in a two agent environment."
   ]
  },
  {
   "cell_type": "markdown",
   "metadata": {},
   "source": [
    "### Deterministic VS. Stochastic"
   ]
  },
  {
   "cell_type": "markdown",
   "metadata": {},
   "source": [
    "- If the next state of the environment is completely determined by the current state and the action executed by the agent, then we say the environment is deterministic; otherwise, it is stochastic. "
   ]
  },
  {
   "cell_type": "markdown",
   "metadata": {},
   "source": [
    "- Taxi driving is clearly stochastic in this sense, because one can never predict the behavior of trafﬁc exactly."
   ]
  },
  {
   "cell_type": "markdown",
   "metadata": {},
   "source": [
    "# EXAMPLES"
   ]
  },
  {
   "cell_type": "markdown",
   "metadata": {},
   "source": [
    "https://github.com/facebookresearch/habitat-api"
   ]
  },
  {
   "cell_type": "markdown",
   "metadata": {},
   "source": [
    "https://wit.ai/"
   ]
  },
  {
   "cell_type": "markdown",
   "metadata": {},
   "source": [
    "https://nltk.org"
   ]
  },
  {
   "cell_type": "markdown",
   "metadata": {},
   "source": [
    "https://nlp.stanford.edu/"
   ]
  }
 ],
 "metadata": {
  "kernelspec": {
   "display_name": "Python 3",
   "language": "python",
   "name": "python3"
  },
  "language_info": {
   "codemirror_mode": {
    "name": "ipython",
    "version": 3
   },
   "file_extension": ".py",
   "mimetype": "text/x-python",
   "name": "python",
   "nbconvert_exporter": "python",
   "pygments_lexer": "ipython3",
   "version": "3.6.7"
  }
 },
 "nbformat": 4,
 "nbformat_minor": 2
}
